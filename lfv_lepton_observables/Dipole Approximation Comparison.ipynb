{
 "cells": [
  {
   "cell_type": "markdown",
   "id": "3958f169",
   "metadata": {},
   "source": [
    "# Comparison of exact and approximate form-factor functions "
   ]
  },
  {
   "cell_type": "markdown",
   "id": "7c66aba5",
   "metadata": {},
   "source": [
    "In this notebook, we generate comparison plots for the exact and approximate form factor functions. "
   ]
  },
  {
   "cell_type": "code",
   "execution_count": 1,
   "id": "8a11fff4",
   "metadata": {},
   "outputs": [],
   "source": [
    "#For numerics\n",
    "import numpy as np\n",
    "\n",
    "#For plotting\n",
    "import matplotlib.pyplot as plt\n",
    "from matplotlib.gridspec import GridSpec\n",
    "\n",
    "#For colorblind plots\n",
    "import seaborn\n",
    "colors = list(seaborn.color_palette('colorblind').as_hex())\n",
    "\n",
    "#For TeX plots\n",
    "from matplotlib import rc\n",
    "rc('font',**{'family':'sans-serif','sans-serif':['Helvetica']})\n",
    "rc('text', usetex=True)\n",
    "\n",
    "#For setting root path\n",
    "import sys\n",
    "import os\n",
    "\n",
    "ROOT = '/Volumes/T7/Research/Thesis' #change this to the path of the Thesis folder\n",
    "\n",
    "if ROOT not in sys.path:\n",
    "    sys.path.append(ROOT)\n",
    "    \n",
    "if os.getcwd() != ROOT:\n",
    "    os.chdir(ROOT)\n",
    "\n",
    "#suppress warnings\n",
    "import warnings\n",
    "warnings.filterwarnings('ignore')\n",
    "\n",
    "#Form factor functions\n",
    "from lfv_lepton_observables.compute.form_factor_functions import f_plus, f_minus\n",
    "from lfv_lepton_observables.compute.form_factor_functions_approx import (f_plus_approx,\n",
    "                                                                         f_minus_approx)\n",
    "from phys.constants import ml"
   ]
  },
  {
   "cell_type": "markdown",
   "id": "5213a7a2",
   "metadata": {},
   "source": [
    "Let us begin by generating the values of the form-factor function $f(x_i, x_j, x_k)$ over a large range of parameters. In the text, we note that for $i = j$, $f(x_i, x_i, x_j) \\equiv g(x_i, x_j)$ as defined in the text. This is already coded under the hood, so we just evaluate $f$ here."
   ]
  },
  {
   "cell_type": "code",
   "execution_count": null,
   "id": "fc88aa86",
   "metadata": {},
   "outputs": [],
   "source": [
    "#names of leptons (in TeX)\n",
    "leptons = ['e', '\\\\mu', '\\\\tau']\n",
    "\n",
    "#diagrams of the form (i, j, k) representing a dipole vertex with external i,j and internal k\n",
    "diagrams = [(0, 0, 0), (0, 0, 1), (0, 0, 2), #electron dipole moments\n",
    "            (1, 0, 0), (1, 0, 1), (1, 0, 2), #\\mu \\rightarrow e \\gamma\n",
    "            (1, 1, 0), (1, 1, 1), (1, 1, 2), #muon dipole moments\n",
    "            (2, 0, 0), (2, 0, 1), (2, 0, 2), #\\tau \\rightarrow \\e \\gamma\n",
    "            (2, 1, 0), (2, 1, 1), (2, 1, 2), #\\tau \\rightarrow \\mu \\gamma\n",
    "            (2, 2, 0), (2, 2, 1), (2, 2, 2) #tau dipole moments\n",
    "           ]\n",
    "\n",
    "#labels for the diagrams \n",
    "def diagram_label(diagram):\n",
    "    i, j, k = diagram\n",
    "    \n",
    "    #for i =/= j, the label corresponds to li -> lj gamma decay rate \n",
    "    if i < j:\n",
    "        j, i = i, j\n",
    "    if i > j:\n",
    "        label = f'${leptons[i]}\\\\stackrel{{{leptons[k]}}}{{\\\\longrightarrow}}{leptons[j]}\\\\gamma$'\n",
    "    #for i = j, the label corresponds to lepton dipole moments, signified by li lj \\gamma (lk)\n",
    "    elif i == j:\n",
    "        label = f'${leptons[i]} {leptons[j]}\\\\gamma ~ ({leptons[k]})$'\n",
    "    return label\n",
    "\n",
    "#Check over a large range of masses\n",
    "m = np.geomspace(1e-4, 1e4, 1000)\n",
    "u = np.complex128([_/m for _ in ml])\n",
    "x = np.complex128([(m/_)**2 for _ in ml])\n",
    "\n",
    "#f(xi, xj, xk) relevant form form-factor F2 (f_{\\pm}(xi, xi, xj) = g_{\\pm}(xi, xj))\n",
    "f2p = {}\n",
    "f2m = {}\n",
    "\n",
    "#approximations for the above\n",
    "f2p_approx = {}\n",
    "f2m_approx = {}\n",
    "\n",
    "# f(xi, -xj, xk), relevant for form-factor F3 \n",
    "f3p = {}\n",
    "f3m = {}\n",
    "\n",
    "# f(xi, -xj, xk), relevant for form-factor F3 \n",
    "f3p_approx = {}\n",
    "f3m_approx = {}\n",
    "\n",
    "labels = {}\n",
    "for diagram in diagrams:\n",
    "    i, j, k = diagram\n",
    "    f2p_approx[diagram] = f_plus_approx(i, j, k)(u[i], u[j], u[k])\n",
    "    f2m_approx[diagram] = f_minus_approx(i, j, k)(u[i], u[j], u[k])\n",
    "\n",
    "    f3p_approx[diagram] = f_plus_approx(i, j, k)(u[i], -u[j], u[k])\n",
    "    f3m_approx[diagram] = f_minus_approx(i, j, k)(u[i], -u[j], u[k])\n",
    "    \n",
    "    f2p[diagram] = np.where(x[i] < (1e8 if i == j else 1e6), #this is ham-fisted in here to fix precision errors\n",
    "                            f_plus(u[i], u[j], u[k]),\n",
    "                            f_plus_approx(i, j, k)(u[i], u[j], u[k]))\n",
    "    f2m[diagram] = np.where(x[i] < (1e8 if i == j else 1e6),\n",
    "                            f_minus(u[i], u[j], u[k]),\n",
    "                            f_minus_approx(i, j, k)(u[i], u[j], u[k]))\n",
    "    \n",
    "    f3p[diagram] = np.where(x[i] < (1e8 if i == j else 1e6),\n",
    "                            f_plus(u[i], -u[j], u[k]),\n",
    "                            f_plus_approx(i, j, k)(u[i], -u[j], u[k]))\n",
    "    f3m[diagram] = np.where(x[i] < (1e8 if i == j else 1e6),\n",
    "                            f_minus(u[i], -u[j], u[k]),\n",
    "                            f_minus_approx(i, j, k)(u[i], -u[j], u[k]))\n",
    "    \n",
    "    labels[diagram] = diagram_label(diagram)"
   ]
  },
  {
   "cell_type": "markdown",
   "id": "41a7fd7e",
   "metadata": {},
   "source": [
    "## Comparisons for $\\ell_i \\rightarrow \\ell_j\\gamma$ form factors"
   ]
  },
  {
   "cell_type": "markdown",
   "id": "1be43f5f",
   "metadata": {},
   "source": [
    "First, we compute the relevant form factors for the LFV lepton decays $\\ell_i \\rightarrow \\ell_j\\gamma$ through an internal $\\ell_k$. We define a helper function for comparing the exact and approximate functions of a given diagram:"
   ]
  },
  {
   "cell_type": "code",
   "execution_count": null,
   "id": "e4047b84",
   "metadata": {},
   "outputs": [],
   "source": [
    "def relative_error(exact, approx):\n",
    "        return np.abs((exact-approx)/exact)\n",
    "\n",
    "#For our purposes, we will only compare f2p and f2m... f3p and f3m are mostly the same\n",
    "def compare(relevant_diagrams, part = None, sign = '+'):\n",
    "    assert part in [None, 'real', 'imag', 'abs']\n",
    "    assert sign in ['+', '-']\n",
    "    \n",
    "    if sign == '+':\n",
    "        f = f2p\n",
    "        f_approx = f2p_approx\n",
    "        ylabel = 'f_+(\\\\mu_i, \\\\mu_j, \\\\mu_k)'\n",
    "    elif sign == '-':\n",
    "        f = f2m\n",
    "        f_approx = f2m_approx\n",
    "        ylabel = 'f_-(\\\\mu_i, \\\\mu_j, \\\\mu_k)'\n",
    "    \n",
    "    fig = plt.figure(figsize=(10, 8))\n",
    "    gs = GridSpec(2, 1, height_ratios=[2, 1], hspace = 0)\n",
    "\n",
    "    func_ax = fig.add_subplot(gs[0])\n",
    "    error_ax = fig.add_subplot(gs[1], sharex=func_ax)\n",
    "    \n",
    "    #Top plot \n",
    "    for idx, diagram in enumerate(relevant_diagrams):\n",
    "        i, j, k = diagram\n",
    "        \n",
    "        #typically, functions are written in terms of x[l] for the heaviest lepton l\n",
    "        x_ax = x[i] if i >= k else x[k]   \n",
    "        \n",
    "        if part == 'imag':\n",
    "            #Exact function\n",
    "            func_ax.plot(x_ax,\n",
    "                         np.imag(f[diagram]),\n",
    "                         color = colors[idx],\n",
    "                         label = labels[diagram]\n",
    "                        )\n",
    "            #Approximate function\n",
    "            func_ax.plot(x_ax,\n",
    "                         np.imag(f_approx[diagram]),\n",
    "                         color = 'black',\n",
    "                         linestyle = 'dotted'\n",
    "                        )\n",
    "        elif part == 'abs':\n",
    "            #Exact function\n",
    "            func_ax.plot(x_ax,\n",
    "                         np.abs(f[diagram]),\n",
    "                         color = colors[idx],\n",
    "                         label = labels[diagram]\n",
    "                        )\n",
    "            #Approximate function\n",
    "            func_ax.plot(x_ax,\n",
    "                         np.abs(f_approx[diagram]),\n",
    "                         color = 'black',\n",
    "                         linestyle = 'dotted'\n",
    "                        )\n",
    "        else:\n",
    "            #Exact function\n",
    "            func_ax.plot(x_ax,\n",
    "                         np.real(f[diagram]),\n",
    "                         color = colors[idx],\n",
    "                         label = labels[diagram]\n",
    "                        )\n",
    "            #Approximate function\n",
    "            func_ax.plot(x_ax,\n",
    "                         np.real(f_approx[diagram]),\n",
    "                         color = 'black',\n",
    "                         linestyle = 'dotted'\n",
    "                        )\n",
    "            \n",
    "    #Dummy point to label approximation on axis\n",
    "    func_ax.plot([1e10], color = 'black', linestyle = 'dotted', label = '$\\\\textrm{approx}$')\n",
    "    \n",
    "    #Legend\n",
    "    func_ax.legend(fancybox=False,\n",
    "                   facecolor = 'white',\n",
    "                   edgecolor = 'black',\n",
    "                   framealpha = 1,\n",
    "                   fontsize = 12,\n",
    "                   loc = 'upper right'\n",
    "                  )\n",
    "    \n",
    "    #Axis specifications\n",
    "    func_ax.grid()\n",
    "        \n",
    "    if part == 'imag':\n",
    "        func_ax.set_ylabel(f'$\\\\textrm{{Im}}\\\\{{{ylabel}\\\\}}$', fontsize = 14)\n",
    "    elif part == 'real':\n",
    "        func_ax.set_ylabel(f'$\\\\textrm{{Re}}\\\\{{{ylabel}\\\\}}$', fontsize = 14)\n",
    "    elif part == 'abs':\n",
    "        func_ax.set_ylabel(f'$\\\\left|{ylabel}\\\\right|$', fontsize = 14)\n",
    "    else:\n",
    "        func_ax.set_ylabel(f'${ylabel}$', fontsize = 14)\n",
    "\n",
    "    func_ax.tick_params(which = 'both', direction = 'in', labelbottom = False)\n",
    "\n",
    "    #Bottom plot\n",
    "    for idx, diagram in enumerate(relevant_diagrams):\n",
    "        i,j,k = diagram\n",
    "        \n",
    "        x_ax = x[i] if i >= k else x[k]\n",
    "        idx_label = 'i' if i >= k else ('j' if i == j else 'k')\n",
    "\n",
    "        if part == 'imag':\n",
    "            error_ax.plot(x_ax,\n",
    "                          relative_error(np.imag(f[diagram]), np.imag(f_approx[diagram])),\n",
    "                          color = colors[idx],\n",
    "                         )\n",
    "        elif part == 'real':\n",
    "            error_ax.plot(x_ax,\n",
    "                          relative_error(np.real(f[diagram]), np.real(f_approx[diagram])),\n",
    "                          color = colors[idx],\n",
    "                         )\n",
    "        elif part == 'abs':\n",
    "            error_ax.plot(x_ax,\n",
    "                          relative_error(np.abs(f[diagram]), np.abs(f_approx[diagram])),\n",
    "                          color = colors[idx],\n",
    "                         )\n",
    "        else:\n",
    "            error_ax.plot(x_ax,\n",
    "                          relative_error(f[diagram], f_approx[diagram]),\n",
    "                          color = colors[idx],\n",
    "                         )\n",
    "\n",
    "    #Axis specifications\n",
    "    error_ax.grid()\n",
    "    error_ax.set_xlabel(f'$x_{idx_label} = m_\\\\varphi^2/m_{idx_label}^2$', fontsize = 14)\n",
    "    error_ax.set_xscale('log')\n",
    "    \n",
    "    error_ax.set_ylabel(\"$\\\\textrm{rel. errors}$\", fontsize = 14)\n",
    "    error_ax.set_yscale('log')\n",
    "    error_ax.tick_params(which = 'both', direction = 'in')\n",
    "\n",
    "    return func_ax, error_ax"
   ]
  },
  {
   "cell_type": "markdown",
   "id": "3cab2ec4",
   "metadata": {},
   "source": [
    "### $i = k > j$:"
   ]
  },
  {
   "cell_type": "code",
   "execution_count": null,
   "id": "fe42ca81",
   "metadata": {},
   "outputs": [],
   "source": [
    "relevant_diagrams = [(1, 0, 1), (2, 0, 2), (2, 1, 2)]"
   ]
  },
  {
   "cell_type": "code",
   "execution_count": null,
   "id": "e2b47cac",
   "metadata": {},
   "outputs": [],
   "source": [
    "func_ax, error_ax = compare(relevant_diagrams, sign = '+')\n",
    "\n",
    "func_ax.set_xlim(1e-4, 1e4)\n",
    "func_ax.set_ylim(0, 0.4)\n",
    "func_ax.set_yticks([0.1, 0.2, 0.3, 0.4])\n",
    "func_ax.set_ylabel('$f_+(\\\\mu_i, \\\\mu_j, \\\\mu_i)$')\n",
    "func_ax.text(3.22e-5, -0.0042, \"$10^{0}, 0.0$\")\n",
    "\n",
    "error_ax.set_ylim(1e-4, 1)\n",
    "error_ax.set_yticks([1e-4, 1e-3, 1e-2, 1e-1])"
   ]
  },
  {
   "cell_type": "code",
   "execution_count": null,
   "id": "6567999b",
   "metadata": {},
   "outputs": [],
   "source": [
    "func_ax, error_ax = compare(relevant_diagrams, sign = '-')\n",
    "\n",
    "func_ax.set_xlim(1e-4, 1e4)\n",
    "func_ax.set_ylim(0, 1.5)\n",
    "func_ax.set_yticks([0.2, 0.4, 0.6, 0.8, 1.0, 1.2, 1.4])\n",
    "func_ax.set_ylabel('$f_-(\\\\mu_i, \\\\mu_j, \\\\mu_i)$')\n",
    "func_ax.text(3.22e-5, -0.02, \"$10^{0}, 0.0$\")\n",
    "\n",
    "error_ax.set_ylim(1e-4, 1)\n",
    "error_ax.set_yticks([1e-4, 1e-3, 1e-2, 1e-1])"
   ]
  },
  {
   "cell_type": "markdown",
   "id": "1fb96de1",
   "metadata": {},
   "source": [
    "### $i > j, k$:"
   ]
  },
  {
   "cell_type": "code",
   "execution_count": null,
   "id": "ccca1c34",
   "metadata": {},
   "outputs": [],
   "source": [
    "relevant_diagrams = [(1, 0, 0), (2, 0, 0), (2, 0, 1), (2, 1, 0), (2, 1, 1)]"
   ]
  },
  {
   "cell_type": "code",
   "execution_count": null,
   "id": "33afde14",
   "metadata": {},
   "outputs": [],
   "source": [
    "func_ax, error_ax = compare(relevant_diagrams, part = 'abs', sign = '+')\n",
    "\n",
    "func_ax.set_xlim(1e-4, 1e4)\n",
    "func_ax.set_ylim(0, 2)\n",
    "func_ax.set_yticks([0.2, 0.4, 0.6, 0.8, 1.0, 1.2, 1.4, 1.6, 1.8, 2.0])\n",
    "func_ax.text(3.22e-5, -0.021, \"$10^{0}, 0.0$\")\n",
    "\n",
    "error_ax.set_ylim(1e-4, 1)\n",
    "error_ax.set_yticks([1e-4, 1e-3, 1e-2, 1e-1])"
   ]
  },
  {
   "cell_type": "code",
   "execution_count": null,
   "id": "ba45715c",
   "metadata": {},
   "outputs": [],
   "source": [
    "func_ax, error_ax = compare(relevant_diagrams, part = 'real', sign = '+')\n",
    "\n",
    "func_ax.set_xlim(1e-4, 1)\n",
    "func_ax.set_ylim(-2, 2)\n",
    "func_ax.set_yticks([-1.5, -1.0, -0.5, 0.0, 0.5, 1.0, 1.5, 2.0])\n",
    "func_ax.text(2.45e-5, -2.045, \"$10^{0}, -2.0$\")\n",
    "\n",
    "error_ax.set_ylim(1e-4, 1)\n",
    "error_ax.set_yticks([1e-4, 1e-3, 1e-2, 1e-1])"
   ]
  },
  {
   "cell_type": "code",
   "execution_count": null,
   "id": "e2d4376f",
   "metadata": {},
   "outputs": [],
   "source": [
    "func_ax, error_ax = compare(relevant_diagrams, part = 'imag', sign = '+')\n",
    "\n",
    "func_ax.set_xlim(1e-4, 1)\n",
    "func_ax.set_ylim(0, 2)\n",
    "func_ax.set_yticks([0.2, 0.4, 0.6, 0.8, 1.0, 1.2, 1.4, 1.6, 1.8, 2.0])\n",
    "func_ax.text(5.74e-5, -0.024, \"$10^{0}, 0.0$\")\n",
    "\n",
    "error_ax.set_ylim(1e-4, 1)\n",
    "error_ax.set_yticks([1e-4, 1e-3, 1e-2, 1e-1])\n"
   ]
  },
  {
   "cell_type": "code",
   "execution_count": null,
   "id": "b56336aa",
   "metadata": {},
   "outputs": [],
   "source": [
    "func_ax, error_ax = compare(relevant_diagrams, part = 'abs', sign = '-')\n",
    "\n",
    "func_ax.set_xlim(1e-4, 1e4)\n",
    "func_ax.set_ylim(0, 2)\n",
    "func_ax.set_yticks([0.2, 0.4, 0.6, 0.8, 1.0, 1.2, 1.4, 1.6, 1.8, 2.0])\n",
    "func_ax.text(3.22e-5, -0.021, \"$10^{0}, 0.0$\")\n",
    "\n",
    "error_ax.set_ylim(1e-4, 1)\n",
    "error_ax.set_yticks([1e-4, 1e-3, 1e-2, 1e-1])"
   ]
  },
  {
   "cell_type": "code",
   "execution_count": null,
   "id": "109b4a51",
   "metadata": {},
   "outputs": [],
   "source": [
    "func_ax, error_ax = compare(relevant_diagrams, part = 'real', sign = '-')\n",
    "\n",
    "func_ax.set_xlim(1e-4, 1e4)\n",
    "func_ax.set_ylim(-2, 2)\n",
    "func_ax.set_yticks([-1.5, -1.0, -0.5, 0.0, 0.5, 1.0, 1.5, 2.0])\n",
    "func_ax.text(2.45e-5, -2.045, \"$10^{0}, -2.0$\")\n",
    "\n",
    "error_ax.set_ylim(1e-4, 1)\n",
    "error_ax.set_yticks([1e-4, 1e-3, 1e-2, 1e-1])"
   ]
  },
  {
   "cell_type": "code",
   "execution_count": null,
   "id": "7e1357ac",
   "metadata": {},
   "outputs": [],
   "source": [
    "func_ax, error_ax = compare(relevant_diagrams, part = 'imag', sign = '-')\n",
    "\n",
    "func_ax.set_xlim(1e-4, 1)\n",
    "func_ax.set_ylim(0, 2)\n",
    "func_ax.set_yticks([0.2, 0.4, 0.6, 0.8, 1.0, 1.2, 1.4, 1.6, 1.8, 2.0])\n",
    "func_ax.text(5.74e-5, -0.024, \"$10^{0}, 0.0$\")\n",
    "\n",
    "error_ax.set_ylim(1e-4, 1)\n",
    "error_ax.set_yticks([1e-4, 1e-3, 1e-2, 1e-1])"
   ]
  },
  {
   "cell_type": "markdown",
   "id": "1916caf2",
   "metadata": {},
   "source": [
    "### $k > i > j$:"
   ]
  },
  {
   "cell_type": "code",
   "execution_count": null,
   "id": "9fb01d5e",
   "metadata": {},
   "outputs": [],
   "source": [
    "relevant_diagrams = [(1, 0, 2)]"
   ]
  },
  {
   "cell_type": "code",
   "execution_count": null,
   "id": "0c308c3a",
   "metadata": {},
   "outputs": [],
   "source": [
    "func_ax, error_ax = compare(relevant_diagrams, sign = '+')\n",
    "\n",
    "func_ax.set_xlim(1e-4, 1e4)\n",
    "func_ax.set_ylim(0, 0.001)\n",
    "func_ax.set_yticks([0.0002, 0.0004, 0.0006, 0.0008, 0.001])\n",
    "func_ax.text(2e-5, -0.000015, \"$10^{0}, 0.0000$\")\n",
    "\n",
    "error_ax.set_ylim(1e-4, 1)\n",
    "error_ax.set_yticks([1e-4, 1e-3, 1e-2, 1e-1])\n",
    "error_ax.set_xlabel('$x_k = m_\\\\varphi^2/m_k^2$')"
   ]
  },
  {
   "cell_type": "code",
   "execution_count": null,
   "id": "2b0c4c11",
   "metadata": {},
   "outputs": [],
   "source": [
    "func_ax, error_ax = compare(relevant_diagrams, sign = '-')\n",
    "\n",
    "func_ax.set_xlim(1e-4, 1e4)\n",
    "func_ax.set_ylim(0, 0.1)\n",
    "func_ax.set_yticks([0.02, 0.04, 0.06, 0.08, 0.1])\n",
    "func_ax.text(2.75e-5, -0.0015, \"$10^{0}, 0.00$\")\n",
    "\n",
    "error_ax.set_ylim(1e-4, 1)\n",
    "error_ax.set_yticks([1e-4, 1e-3, 1e-2, 1e-1])\n",
    "error_ax.set_xlabel('$x_k = m_\\\\varphi^2/m_k^2$')"
   ]
  },
  {
   "cell_type": "markdown",
   "id": "8b29156a",
   "metadata": {},
   "source": [
    "## Comparisons for lepton dipole moment form factors"
   ]
  },
  {
   "cell_type": "markdown",
   "id": "8c98677c",
   "metadata": {},
   "source": [
    "Now, we compute the relevant form factors for the dipole moments of the leptons. We only do this for $i > j$ and $i < j$, because for $i = j$, the expression for $g(x_i, x_i)$ is exact."
   ]
  },
  {
   "cell_type": "markdown",
   "id": "af9b15cb",
   "metadata": {},
   "source": [
    "### $i > j$:"
   ]
  },
  {
   "cell_type": "code",
   "execution_count": null,
   "id": "dbdf6856",
   "metadata": {},
   "outputs": [],
   "source": [
    "relevant_diagrams = [(1, 1, 0), (2, 2, 0), (2, 2, 1)]"
   ]
  },
  {
   "cell_type": "code",
   "execution_count": null,
   "id": "15e67274",
   "metadata": {},
   "outputs": [],
   "source": [
    "func_ax, error_ax = compare(relevant_diagrams, part = 'abs', sign = '+')\n",
    "\n",
    "func_ax.set_xlim(1e-4, 1e4)\n",
    "func_ax.set_ylim(0, 12)\n",
    "func_ax.set_yticks([2, 4, 6, 8, 10, 12])\n",
    "func_ax.set_ylabel('$\\\\left|g_+(\\\\mu_i, \\\\mu_j)\\\\right|$')\n",
    "func_ax.text(4.1e-5, -0.18, \"$10^{0}, 0$\")\n",
    "\n",
    "error_ax.set_ylim(1e-6, 1)\n",
    "error_ax.set_yticks([1e-6, 1e-5, 1e-4, 1e-3, 1e-2, 1e-1])"
   ]
  },
  {
   "cell_type": "code",
   "execution_count": null,
   "id": "1059767c",
   "metadata": {},
   "outputs": [],
   "source": [
    "func_ax, error_ax = compare(relevant_diagrams, part = 'real', sign = '+')\n",
    "\n",
    "func_ax.set_xlim(1e-4, 1e4)\n",
    "func_ax.set_ylim(-5, 12)\n",
    "func_ax.set_ylabel('$\\\\textrm{Re}\\\\{g_+(\\\\mu_i, \\\\mu_j)\\\\}$')\n",
    "\n",
    "error_ax.set_ylim(1e-6, 1)\n",
    "error_ax.set_yticks([1e-6, 1e-5, 1e-4, 1e-3, 1e-2, 1e-1, 1e0])"
   ]
  },
  {
   "cell_type": "code",
   "execution_count": null,
   "id": "38e7abdd",
   "metadata": {},
   "outputs": [],
   "source": [
    "func_ax, error_ax = compare(relevant_diagrams, part = 'imag', sign = '+')\n",
    "\n",
    "func_ax.set_xlim(1e-4, 2)\n",
    "func_ax.set_ylim(0, 12)\n",
    "func_ax.set_yticks([2, 4, 6, 8, 10, 12])\n",
    "func_ax.set_ylabel('$\\\\textrm{Im}\\\\{g_+(\\\\mu_i, \\\\mu_j)\\\\}$')\n",
    "func_ax.text(6.2e-5, -0.18, \"$10^{0}, 0$\")\n",
    "\n",
    "error_ax.set_ylim(1e-6, 1)\n",
    "error_ax.set_yticks([1e-6, 1e-5, 1e-4, 1e-3, 1e-2, 1e-1])"
   ]
  },
  {
   "cell_type": "code",
   "execution_count": null,
   "id": "02e73101",
   "metadata": {},
   "outputs": [],
   "source": [
    "func_ax, error_ax = compare(relevant_diagrams, part = 'abs', sign = '-')\n",
    "\n",
    "func_ax.set_xlim(1e-4, 1e4)\n",
    "func_ax.set_ylim(0, 12)\n",
    "func_ax.set_yticks([2, 4, 6, 8, 10, 12])\n",
    "func_ax.set_ylabel('$\\\\left|g_-(\\\\mu_i, \\\\mu_j)\\\\right|$')\n",
    "func_ax.text(4.1e-5, -0.18, \"$10^{0}, 0$\")\n",
    "\n",
    "error_ax.set_ylim(1e-8, 1)\n",
    "error_ax.set_xlim(1e-4, 1e4)\n",
    "error_ax.set_yticks([1e-8, 1e-6, 1e-4, 1e-2])"
   ]
  },
  {
   "cell_type": "code",
   "execution_count": null,
   "id": "cb0361e5",
   "metadata": {},
   "outputs": [],
   "source": [
    "func_ax, error_ax = compare(relevant_diagrams, part = 'real', sign = '-')\n",
    "\n",
    "func_ax.set_xlim(1e-4, 1e4)\n",
    "func_ax.set_ylim(0, 12)\n",
    "func_ax.set_yticks([2, 4, 6, 8, 10, 12])\n",
    "func_ax.set_ylabel('$\\\\textrm{Re}\\\\{g_-(\\\\mu_i, \\\\mu_j)\\\\}$')\n",
    "func_ax.text(4.1e-5, -0.18, \"$10^{0}, 0$\")\n",
    "\n",
    "error_ax.set_ylim(1e-8, 1)\n",
    "error_ax.set_yticks([1e-8, 1e-6, 1e-4, 1e-2])"
   ]
  },
  {
   "cell_type": "code",
   "execution_count": null,
   "id": "d1ec672b",
   "metadata": {},
   "outputs": [],
   "source": [
    "func_ax, error_ax = compare(relevant_diagrams, part = 'imag', sign = '-')\n",
    "\n",
    "func_ax.set_xlim(1e-4, 2)\n",
    "func_ax.set_ylim(0, 12)\n",
    "func_ax.set_yticks([2, 4, 6, 8, 10, 12])\n",
    "func_ax.set_ylabel('$\\\\textrm{Im}\\\\{g_-(\\\\mu_i, \\\\mu_j)\\\\}$')\n",
    "func_ax.text(6.2e-5, -0.18, \"$10^{0}, 0$\")\n",
    "\n",
    "error_ax.set_ylim(1e-8, 1)\n",
    "error_ax.set_yticks([1e-8, 1e-6, 1e-4, 1e-2])"
   ]
  },
  {
   "cell_type": "markdown",
   "id": "7a9e116f",
   "metadata": {},
   "source": [
    "### $i < j$:"
   ]
  },
  {
   "cell_type": "code",
   "execution_count": null,
   "id": "0a0ebd2d",
   "metadata": {},
   "outputs": [],
   "source": [
    "relevant_diagrams = [(0, 0, 1), (0, 0, 2), (1, 1, 2)]"
   ]
  },
  {
   "cell_type": "code",
   "execution_count": null,
   "id": "58c72535",
   "metadata": {},
   "outputs": [],
   "source": [
    "func_ax, error_ax = compare(relevant_diagrams, sign = '+')\n",
    "\n",
    "func_ax.set_xlim(1e-4, 1e4)\n",
    "func_ax.set_ylim(1e-8, 0.01)\n",
    "func_ax.set_yscale('log')\n",
    "func_ax.set_yticks([1e-6,1e-4,1e-2])\n",
    "func_ax.set_ylabel('$g_+(\\\\mu_i, \\\\mu_j)$')\n",
    "func_ax.text(4.7e-5, 8.3e-9, \"$10^{0}, 10^{-8}$\")\n",
    "\n",
    "error_ax.set_ylim(1e-8, 1)\n",
    "error_ax.set_yticks([1e-8, 1e-6, 1e-4, 1e-2])"
   ]
  },
  {
   "cell_type": "code",
   "execution_count": null,
   "id": "9ccadac4",
   "metadata": {},
   "outputs": [],
   "source": [
    "func_ax, error_ax = compare(relevant_diagrams, sign = '-')\n",
    "\n",
    "func_ax.set_xlim(1e-4, 1e4)\n",
    "func_ax.set_ylim(1e-4, 1)\n",
    "func_ax.set_yscale('log')\n",
    "func_ax.set_yticks([1e-3,1e-2,1e-1,1e0])\n",
    "func_ax.set_ylabel('$g_-(\\\\mu_i, \\\\mu_j)$')\n",
    "func_ax.text(4.7e-5, 8.8e-5, \"$10^{0}, 10^{-4}$\")\n",
    "\n",
    "error_ax.set_yticks([1e-8, 1e-6, 1e-4, 1e-2])\n",
    "error_ax.set_ylim(1e-8, 1)\n",
    "error_ax.set_xlim(1e-4, 1e4)"
   ]
  },
  {
   "cell_type": "code",
   "execution_count": null,
   "id": "afc65c76-cc90-4922-95de-112ba946c574",
   "metadata": {},
   "outputs": [],
   "source": []
  }
 ],
 "metadata": {
  "kernelspec": {
   "display_name": "Python 3 (ipykernel)",
   "language": "python",
   "name": "python3"
  },
  "language_info": {
   "codemirror_mode": {
    "name": "ipython",
    "version": 3
   },
   "file_extension": ".py",
   "mimetype": "text/x-python",
   "name": "python",
   "nbconvert_exporter": "python",
   "pygments_lexer": "ipython3",
   "version": "3.13.2"
  }
 },
 "nbformat": 4,
 "nbformat_minor": 5
}
