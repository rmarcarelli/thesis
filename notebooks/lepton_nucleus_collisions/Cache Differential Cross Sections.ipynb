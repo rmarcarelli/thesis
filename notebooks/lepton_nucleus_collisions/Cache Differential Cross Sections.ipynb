{
 "cells": [
  {
   "cell_type": "code",
   "execution_count": 2,
   "id": "ec28b8f9",
   "metadata": {},
   "outputs": [],
   "source": [
    "# Setup paths and imports\n",
    "import os\n",
    "import sys\n",
    "from pathlib import Path\n",
    "\n",
    "ROOT = str(Path().resolve().parents[1])\n",
    "sys.path.append(ROOT)\n",
    "os.chdir(ROOT)\n",
    "\n",
    "# For numerics\n",
    "import numpy as np\n",
    "import itertools\n",
    "\n",
    "# For progress bar in loops\n",
    "from tqdm import tqdm\n",
    "\n",
    "# Suppress warnings\n",
    "import warnings\n",
    "warnings.filterwarnings('ignore')\n",
    "\n",
    "from thesis_code.lepton_nucleus_collisions.experiments import E137, EIC, MuBeD, MuSIC, FinalState"
   ]
  },
  {
   "cell_type": "markdown",
   "id": "35398ec3-cfa5-4647-8a9c-9688aeb75fb4",
   "metadata": {},
   "source": [
    "# Cache Differential Cross-Sections"
   ]
  },
  {
   "cell_type": "markdown",
   "id": "65c71cf5-be1d-441b-9252-1b20b166094b",
   "metadata": {},
   "source": [
    "Here we cache some differential cross-sections as h5 files for later use."
   ]
  },
  {
   "cell_type": "code",
   "execution_count": 2,
   "id": "aa2c16bf-b0ca-4038-8860-0732adc4713a",
   "metadata": {},
   "outputs": [
    {
     "name": "stdout",
     "output_type": "stream",
     "text": [
      "----------------E137----------------\n"
     ]
    },
    {
     "name": "stderr",
     "output_type": "stream",
     "text": [
      "Processing: 100%|███████████████████████████| 7236/7236 [22:20<00:00,  5.40it/s]\n"
     ]
    },
    {
     "name": "stdout",
     "output_type": "stream",
     "text": [
      "----------------EIC----------------\n"
     ]
    },
    {
     "name": "stderr",
     "output_type": "stream",
     "text": [
      "Processing: 100%|███████████████████████████| 7236/7236 [21:56<00:00,  5.50it/s]\n"
     ]
    },
    {
     "name": "stdout",
     "output_type": "stream",
     "text": [
      "----------------MuBeD----------------\n"
     ]
    },
    {
     "name": "stderr",
     "output_type": "stream",
     "text": [
      "Processing: 100%|███████████████████████████| 7236/7236 [21:54<00:00,  5.50it/s]\n"
     ]
    },
    {
     "name": "stdout",
     "output_type": "stream",
     "text": [
      "----------------MuSIC----------------\n"
     ]
    },
    {
     "name": "stderr",
     "output_type": "stream",
     "text": [
      "Processing: 100%|███████████████████████████| 7236/7236 [21:54<00:00,  5.51it/s]\n"
     ]
    }
   ],
   "source": [
    "experiments = [E137, EIC, MuBeD, MuSIC]\n",
    "methods = ['exact', 'WW', 'IWW']\n",
    "t_cut_offs = [1e-2, 1.0]\n",
    "leptons = ['e', 'mu', 'tau']\n",
    "particle_types = ['scalar', 'vector']\n",
    "\n",
    "for experiment in experiments:\n",
    "    print(f'----------------{experiment.name}----------------')\n",
    "\n",
    "    m_max = np.sqrt(2 * experiment.E * 1.0)\n",
    "    particle_masses = np.geomspace(1e-3, m_max, 200)\n",
    "    particle_masses = np.append(particle_masses, 1e18) # append 1e18 so that large masses are automatically interpolated (though should be zero)\n",
    "    \n",
    "    combos = itertools.product(particle_masses, particle_types, leptons, t_cut_offs, methods)\n",
    "    final_states = [FinalState(method, t_cut_off, lepton, particle_type, particle_mass) for particle_mass, particle_type, lepton, t_cut_off, method in combos]\n",
    "\n",
    "    for final_state in tqdm(final_states, desc = 'Processing: '):\n",
    "        experiment.cache_canonical_differential_cross_section(final_state)"
   ]
  },
  {
   "cell_type": "code",
   "execution_count": null,
   "id": "7bcc85dd-4c9b-42af-9f72-26c96cba1f32",
   "metadata": {},
   "outputs": [],
   "source": []
  }
 ],
 "metadata": {
  "kernelspec": {
   "display_name": "Python 3 (ipykernel)",
   "language": "python",
   "name": "python3"
  },
  "language_info": {
   "codemirror_mode": {
    "name": "ipython",
    "version": 3
   },
   "file_extension": ".py",
   "mimetype": "text/x-python",
   "name": "python",
   "nbconvert_exporter": "python",
   "pygments_lexer": "ipython3",
   "version": "3.13.2"
  }
 },
 "nbformat": 4,
 "nbformat_minor": 5
}
